{
  "nbformat": 4,
  "nbformat_minor": 0,
  "metadata": {
    "colab": {
      "provenance": [],
      "toc_visible": true
    },
    "kernelspec": {
      "name": "python3",
      "display_name": "Python 3"
    },
    "language_info": {
      "name": "python"
    }
  },
  "cells": [
    {
      "cell_type": "markdown",
      "source": [
        "# **1. Import Library**"
      ],
      "metadata": {
        "id": "fKADPWcFKlj3"
      }
    },
    {
      "cell_type": "markdown",
      "source": [
        "Pada tahap ini, Anda perlu mengimpor beberapa pustaka (library) Python yang dibutuhkan untuk analisis data dan pembangunan model machine learning."
      ],
      "metadata": {
        "id": "LgA3ERnVn84N"
      }
    },
    {
      "cell_type": "code",
      "source": [
        "import pandas as pd\n",
        "import numpy as np\n",
        "import matplotlib.pyplot as plt\n",
        "import seaborn as sns\n",
        "\n",
        "from scipy import stats\n",
        "from sklearn.preprocessing import StandardScaler, LabelEncoder\n",
        "from sklearn.model_selection import train_test_split, GridSearchCV\n",
        "from sklearn.ensemble import RandomForestClassifier\n",
        "from sklearn.svm import SVC\n",
        "from sklearn.metrics import accuracy_score, f1_score, classification_report, confusion_matrix\n",
        "from sklearn.feature_selection import SelectKBest, f_classif\n",
        "\n",
        "import warnings\n",
        "warnings.filterwarnings('ignore')"
      ],
      "metadata": {
        "id": "BlmvjLY9M4Yj"
      },
      "execution_count": 1,
      "outputs": []
    },
    {
      "cell_type": "markdown",
      "source": [
        "# **2. Memuat Dataset dari Hasil Clustering**"
      ],
      "metadata": {
        "id": "f3YIEnAFKrKL"
      }
    },
    {
      "cell_type": "markdown",
      "source": [
        "Memuat dataset hasil clustering dari file CSV ke dalam variabel DataFrame."
      ],
      "metadata": {
        "id": "Ey3ItwTen_7E"
      }
    },
    {
      "cell_type": "code",
      "source": [
        "dataset = \"https://raw.githubusercontent.com/aesxiety/Coding-Camp-DBS/main/Belajar%20Machine%20Learning%20untuk%20Pemula/Dataset/Dataset_hasil_clustering.csv\"\n",
        "\n",
        "try:\n",
        "  df = pd.read_csv(dataset)\n",
        "  print(\"Data berhasil dibaca!\")\n",
        "  print(\"Jumlah baris dan kolom:\", df.shape)\n",
        "except FileNotFoundError:\n",
        "  print(f\"Error: Tidak ditemukan {dataset}. coba cek dataset.\")\n",
        "except pd.errors.ParserError:\n",
        "    print(f\"Error: Tidak bisa digunakan {dataset}. coba cek format filenya.\")\n",
        "except Exception as e:\n",
        "    print(f\"Error: {e}\")"
      ],
      "metadata": {
        "id": "GHCGNTyrM5fS",
        "colab": {
          "base_uri": "https://localhost:8080/"
        },
        "outputId": "b93b6cb9-12fa-4a00-c270-cc8dde116724"
      },
      "execution_count": 2,
      "outputs": [
        {
          "output_type": "stream",
          "name": "stdout",
          "text": [
            "Data berhasil dibaca!\n",
            "Jumlah baris dan kolom: (14359, 12)\n"
          ]
        }
      ]
    },
    {
      "cell_type": "code",
      "source": [
        "df.info()"
      ],
      "metadata": {
        "colab": {
          "base_uri": "https://localhost:8080/"
        },
        "id": "yD5VkabgkLVT",
        "outputId": "44cb8989-3b7b-4ce1-ed43-f74267b74efd"
      },
      "execution_count": 3,
      "outputs": [
        {
          "output_type": "stream",
          "name": "stdout",
          "text": [
            "<class 'pandas.core.frame.DataFrame'>\n",
            "RangeIndex: 14359 entries, 0 to 14358\n",
            "Data columns (total 12 columns):\n",
            " #   Column               Non-Null Count  Dtype  \n",
            "---  ------               --------------  -----  \n",
            " 0   name                 14359 non-null  object \n",
            " 1   price                14359 non-null  float64\n",
            " 2   depreciation         14359 non-null  float64\n",
            " 3   mileage              14359 non-null  float64\n",
            " 4   brand                14359 non-null  object \n",
            " 5   carage               14359 non-null  float64\n",
            " 6   brand_encoded        14359 non-null  int64  \n",
            " 7   price_scaled         14359 non-null  float64\n",
            " 8   mileage_scaled       14359 non-null  float64\n",
            " 9   depreciation_scaled  14359 non-null  float64\n",
            " 10  carage_scaled        14359 non-null  float64\n",
            " 11  Cluster_KMeans       14359 non-null  int64  \n",
            "dtypes: float64(8), int64(2), object(2)\n",
            "memory usage: 1.3+ MB\n"
          ]
        }
      ]
    },
    {
      "cell_type": "code",
      "source": [
        "print(\"Jumlah Nilai Unik per Kolom:\")\n",
        "print(df.nunique(), \"\\n\")\\\n",
        "\n",
        "missing_values = df.isnull().sum()\n",
        "if missing_values.sum() > 0:\n",
        "    print(\"Dataset memiliki nilai yang null!\")\n",
        "    print(missing_values[missing_values > 0], \"\\n\")\n",
        "else:\n",
        "    print(\"Tidak ada nilai yang null dalam dataset!\\n\")"
      ],
      "metadata": {
        "colab": {
          "base_uri": "https://localhost:8080/"
        },
        "id": "fmKvbsWEiI4Z",
        "outputId": "233b12f4-5696-41fe-80a2-b0bc8842d48d"
      },
      "execution_count": 4,
      "outputs": [
        {
          "output_type": "stream",
          "name": "stdout",
          "text": [
            "Jumlah Nilai Unik per Kolom:\n",
            "name                   4708\n",
            "price                  2186\n",
            "depreciation           2082\n",
            "mileage                4074\n",
            "brand                    63\n",
            "carage                   19\n",
            "brand_encoded            63\n",
            "price_scaled           2186\n",
            "mileage_scaled         4074\n",
            "depreciation_scaled    2082\n",
            "carage_scaled            19\n",
            "Cluster_KMeans            4\n",
            "dtype: int64 \n",
            "\n",
            "Tidak ada nilai yang null dalam dataset!\n",
            "\n"
          ]
        }
      ]
    },
    {
      "cell_type": "markdown",
      "source": [
        "# **3. Data Splitting**"
      ],
      "metadata": {
        "id": "KkPem5eWL2UP"
      }
    },
    {
      "cell_type": "markdown",
      "source": [
        "Tahap Data Splitting bertujuan untuk memisahkan dataset menjadi dua bagian: data latih (training set) dan data uji (test set)."
      ],
      "metadata": {
        "id": "YYj1rl_JNI9Y"
      }
    },
    {
      "cell_type": "code",
      "source": [
        "X = df[['brand_encoded', 'price_scaled', 'mileage_scaled', 'depreciation_scaled', 'carage_scaled']]\n",
        "y = df['Cluster_KMeans']\n",
        "\n",
        "X_train, X_test, y_train, y_test = train_test_split(X, y, test_size=0.3, random_state=42, stratify=y)\n",
        "print(f\"\\nJumlah data training: {X_train.shape[0]}, testing: {X_test.shape[0]}\")\n",
        "\n",
        "# Feature Selection\n",
        "selector = SelectKBest(score_func=f_classif, k=5)\n",
        "X_train_selected = selector.fit_transform(X_train, y_train)\n",
        "X_test_selected = selector.transform(X_test)\n",
        "selected_features = X.columns[selector.get_support()].tolist()\n",
        "print(f\"Fitur terpilih: {selected_features}\")"
      ],
      "metadata": {
        "id": "OubAW-7ONKVj",
        "colab": {
          "base_uri": "https://localhost:8080/"
        },
        "outputId": "bbc9a31f-1807-46c5-84ea-e5a28e2c2ea2"
      },
      "execution_count": 5,
      "outputs": [
        {
          "output_type": "stream",
          "name": "stdout",
          "text": [
            "\n",
            "Jumlah data training: 10051, testing: 4308\n",
            "Fitur terpilih: ['brand_encoded', 'price_scaled', 'mileage_scaled', 'depreciation_scaled', 'carage_scaled']\n"
          ]
        }
      ]
    },
    {
      "cell_type": "markdown",
      "source": [
        "# **4. Membangun Model Klasifikasi**\n"
      ],
      "metadata": {
        "id": "IVPbB03CMhTT"
      }
    },
    {
      "cell_type": "markdown",
      "source": [
        "## **a. Membangun Model Klasifikasi**"
      ],
      "metadata": {
        "id": "Ned1pL9zMmBK"
      }
    },
    {
      "cell_type": "markdown",
      "source": [
        "Setelah memilih algoritma klasifikasi yang sesuai, langkah selanjutnya adalah melatih model menggunakan data latih.\n",
        "\n",
        "Berikut adalah rekomendasi tahapannya.\n",
        "1. Pilih algoritma klasifikasi yang sesuai, seperti Logistic Regression, Decision Tree, Random Forest, atau K-Nearest Neighbors (KNN).\n",
        "2. Latih model menggunakan data latih."
      ],
      "metadata": {
        "id": "WAWzPOE4Nkti"
      }
    },
    {
      "cell_type": "markdown",
      "source": [
        "### **1️⃣ Support Vector Machine (SVM)**"
      ],
      "metadata": {
        "id": "eYyYH4T1XYqK"
      }
    },
    {
      "cell_type": "code",
      "source": [
        "svm_model = SVC(kernel='rbf', random_state=42)\n",
        "svm_model.fit(X_train_selected, y_train)\n",
        "\n",
        "print(\"\\nModel  SVM berhasil dilatih.\")"
      ],
      "metadata": {
        "colab": {
          "base_uri": "https://localhost:8080/"
        },
        "id": "vbdpAgsWX-IB",
        "outputId": "d684866b-8d73-47b1-a7af-f820c5387e87"
      },
      "execution_count": 7,
      "outputs": [
        {
          "output_type": "stream",
          "name": "stdout",
          "text": [
            "\n",
            "Model  SVM berhasil dilatih.\n"
          ]
        }
      ]
    },
    {
      "cell_type": "markdown",
      "source": [
        "Support Vector Machine (SVM) adalah algoritma pembelajaran mesin yang mencari **hyperplane terbaik** untuk memisahkan kelas dalam data.  \n",
        "- Menggunakan *kernel trick* (RBF Kernel) untuk menangani data yang tidak terpisah secara linear.  \n",
        "- Mencari *support vectors* yang menentukan batas keputusan terbaik."
      ],
      "metadata": {
        "id": "JsREg-jZa09v"
      }
    },
    {
      "cell_type": "markdown",
      "source": [
        "### **2️⃣ Random Forest Classifier (RFC)**"
      ],
      "metadata": {
        "id": "ePuXiumjXOiL"
      }
    },
    {
      "cell_type": "code",
      "source": [
        "rf_model = RandomForestClassifier(n_estimators=100, random_state=42)\n",
        "rf_model.fit(X_train_selected, y_train)\n",
        "print(\"\\nModel Random Forest berhasil dilatih.\")"
      ],
      "metadata": {
        "id": "4JYxBe87NLDk",
        "colab": {
          "base_uri": "https://localhost:8080/"
        },
        "outputId": "3e867b11-40a5-4233-a1db-2fab7e6848b6"
      },
      "execution_count": 6,
      "outputs": [
        {
          "output_type": "stream",
          "name": "stdout",
          "text": [
            "\n",
            "Model Random Forest berhasil dilatih.\n"
          ]
        }
      ]
    },
    {
      "cell_type": "markdown",
      "source": [
        "Random Forest adalah algoritma berbasis *ensemble learning* yang menggabungkan banyak pohon keputusan untuk meningkatkan akurasi.  \n",
        "- Setiap pohon dilatih dengan subset data yang berbeda (bagging method).  \n",
        "- Keputusan akhir ditentukan dengan *voting mayoritas* dari semua pohon.  \n",
        "- Kuat terhadap *overfitting* dan bekerja baik pada data numerik."
      ],
      "metadata": {
        "id": "9eEMKkNebE_6"
      }
    },
    {
      "cell_type": "markdown",
      "source": [
        "## **b. Evaluasi Model Klasifikasi**"
      ],
      "metadata": {
        "id": "ergzChZFEL-O"
      }
    },
    {
      "cell_type": "markdown",
      "source": [
        "Berikut adalah **rekomendasi** tahapannya.\n",
        "1. Lakukan prediksi menggunakan data uji.\n",
        "2. Hitung metrik evaluasi seperti Accuracy dan F1-Score (Opsional: Precision dan Recall).\n",
        "3. Buat confusion matrix untuk melihat detail prediksi benar dan salah."
      ],
      "metadata": {
        "id": "zOm68u-7NpLT"
      }
    },
    {
      "cell_type": "markdown",
      "source": [
        "### Evaluasi Model SVM"
      ],
      "metadata": {
        "id": "pHB5P6H3bsHO"
      }
    },
    {
      "cell_type": "code",
      "source": [
        "y_pred_svm = svm_model.predict(X_test_selected)\n",
        "acc_svm = accuracy_score(y_test, y_pred_svm)\n",
        "f1_svm = f1_score(y_test, y_pred_svm, average='weighted')\n",
        "print(\"\\nMetriks Evaluasi SVM\")\n",
        "print(f\"Akurasi: {acc_svm:.4f}\")\n",
        "print(f\"F1-Score: {f1_svm:.4f}\")\n",
        "print(\"\\nClassification Report:\")\n",
        "print(classification_report(y_test, y_pred_svm))\n",
        "\n",
        "# Confusion Matrix Random Forest\n",
        "cm_svm = confusion_matrix(y_test, y_pred_svm)\n",
        "plt.figure(figsize=(6, 4))\n",
        "sns.heatmap(cm_svm, annot=True, fmt='d', cmap='Blues')\n",
        "plt.title('Confusion Matrix Random Forest')\n",
        "plt.xlabel('Predicted')\n",
        "plt.ylabel('Actual')\n",
        "plt.show()"
      ],
      "metadata": {
        "colab": {
          "base_uri": "https://localhost:8080/",
          "height": 705
        },
        "id": "cQjL4rhTcDS3",
        "outputId": "8476334f-bc7d-42a6-82d3-2824a371beea"
      },
      "execution_count": 20,
      "outputs": [
        {
          "output_type": "stream",
          "name": "stdout",
          "text": [
            "\n",
            "Metriks Evaluasi SVM\n",
            "Akurasi: 0.9986\n",
            "F1-Score: 0.9986\n",
            "\n",
            "Classification Report:\n",
            "              precision    recall  f1-score   support\n",
            "\n",
            "           0       1.00      1.00      1.00      1420\n",
            "           1       1.00      1.00      1.00       866\n",
            "           2       1.00      1.00      1.00      1096\n",
            "           3       1.00      1.00      1.00       926\n",
            "\n",
            "    accuracy                           1.00      4308\n",
            "   macro avg       1.00      1.00      1.00      4308\n",
            "weighted avg       1.00      1.00      1.00      4308\n",
            "\n"
          ]
        },
        {
          "output_type": "display_data",
          "data": {
            "text/plain": [
              "<Figure size 600x400 with 2 Axes>"
            ],
            "image/png": "[encoded data removed]"
          },
          "metadata": {}
        }
      ]
    },
    {
      "cell_type": "markdown",
      "source": [
        "SVM\n",
        "- Mencapai akurasi 99.86%, yang menunjukkan performa hampir sempurna.\n",
        "- F1-Score juga 99.86%, menandakan keseimbangan antara precision dan recall.\n",
        "- Model ini stabil dan mampu menangani data non-linear dengan baik karena menggunakan RBF Kernel."
      ],
      "metadata": {
        "id": "C6v1EHNNe5N0"
      }
    },
    {
      "cell_type": "markdown",
      "source": [
        "### Evaluasi Model Random Forest"
      ],
      "metadata": {
        "id": "j-tGXVyCdKNC"
      }
    },
    {
      "cell_type": "code",
      "source": [
        "y_pred_rf = rf_model.predict(X_test_selected)\n",
        "acc_rf = accuracy_score(y_test, y_pred_rf)\n",
        "f1_rf = f1_score(y_test, y_pred_rf, average='weighted')\n",
        "print(\"\\nMetriks Evaluasi rf\")\n",
        "print(f\"Akurasi: {acc_rf:.4f}\")\n",
        "print(f\"F1-Score: {f1_rf:.4f}\")\n",
        "print(\"\\nClassification Report:\")\n",
        "print(classification_report(y_test, y_pred_rf))\n",
        "\n",
        "# Confusion Matrix Random Forest\n",
        "cm_rf = confusion_matrix(y_test, y_pred_rf)\n",
        "plt.figure(figsize=(6, 4))\n",
        "sns.heatmap(cm_rf, annot=True, fmt='d', cmap='Blues')\n",
        "plt.title('Confusion Matrix Random Forest')\n",
        "plt.xlabel('Predicted')\n",
        "plt.ylabel('Actual')\n",
        "plt.show()"
      ],
      "metadata": {
        "colab": {
          "base_uri": "https://localhost:8080/",
          "height": 705
        },
        "id": "22uljDQMdObD",
        "outputId": "971c3331-2fb2-4f1c-ed89-42c444be55e0"
      },
      "execution_count": 21,
      "outputs": [
        {
          "output_type": "stream",
          "name": "stdout",
          "text": [
            "\n",
            "Metriks Evaluasi rf\n",
            "Akurasi: 1.0000\n",
            "F1-Score: 1.0000\n",
            "\n",
            "Classification Report:\n",
            "              precision    recall  f1-score   support\n",
            "\n",
            "           0       1.00      1.00      1.00      1420\n",
            "           1       1.00      1.00      1.00       866\n",
            "           2       1.00      1.00      1.00      1096\n",
            "           3       1.00      1.00      1.00       926\n",
            "\n",
            "    accuracy                           1.00      4308\n",
            "   macro avg       1.00      1.00      1.00      4308\n",
            "weighted avg       1.00      1.00      1.00      4308\n",
            "\n"
          ]
        },
        {
          "output_type": "display_data",
          "data": {
            "text/plain": [
              "<Figure size 600x400 with 2 Axes>"
            ],
            "image/png": "[encoded data removed]"
          },
          "metadata": {}
        }
      ]
    },
    {
      "cell_type": "markdown",
      "source": [
        "Random Forest (RFC) :\n",
        "- Mencapai akurasi sempurna 100% pada data uji.\n",
        "- F1-Score juga 100%, menunjukkan tidak ada kesalahan klasifikasi pada data ini.\n",
        "- Random Forest menggunakan banyak pohon keputusan, sehingga memiliki daya generalisasi yang lebih baik dan lebih kuat terhadap overfitting."
      ],
      "metadata": {
        "id": "8VZ_xv7Le_vy"
      }
    },
    {
      "cell_type": "markdown",
      "source": [
        "Kesimpulan :\n",
        "- Kedua model menunjukkan performa yang sangat tinggi, dengan RFC sedikit lebih unggul karena mencapai akurasi 100%\n",
        "- SVM tetap menjadi pilihan kuat karena performanya hampir sempurna, terutama jika dataset lebih kompleks atau jumlah fitur meningkat.\n",
        "- perlu memastikan model RFC tidak mengalami overfitting."
      ],
      "metadata": {
        "id": "H4_9OwrsXZlz"
      }
    },
    {
      "cell_type": "markdown",
      "source": [
        "## **c. Tuning Model Klasifikasi (Optional)**"
      ],
      "metadata": {
        "id": "ph9yIYDXEPuB"
      }
    },
    {
      "cell_type": "markdown",
      "source": [
        "Gunakan GridSearchCV, RandomizedSearchCV, atau metode lainnya untuk mencari kombinasi hyperparameter terbaik"
      ],
      "metadata": {
        "id": "-Bikx3LINv5e"
      }
    },
    {
      "cell_type": "code",
      "source": [
        "param_grid_rf = {\n",
        "    'n_estimators': [50,100, 200],\n",
        "    'max_depth': [5,10, 20, None],\n",
        "    'min_samples_split': [2, 5]\n",
        "}\n",
        "grid_rf = GridSearchCV(RandomForestClassifier(random_state=42), param_grid_rf, cv=5, scoring='f1_weighted', n_jobs=-1)\n",
        "grid_rf.fit(X_train_selected, y_train)\n",
        "print(\"\\nTuning Random Forest:\")\n",
        "print(f\"Parameter terbaik: {grid_rf.best_params_}\")"
      ],
      "metadata": {
        "id": "winbFzb8NL95",
        "colab": {
          "base_uri": "https://localhost:8080/"
        },
        "outputId": "5cf807a7-493e-446c-c2c7-cac043a8caa7"
      },
      "execution_count": 26,
      "outputs": [
        {
          "output_type": "stream",
          "name": "stdout",
          "text": [
            "\n",
            "Tuning Random Forest:\n",
            "Parameter terbaik: {'max_depth': 10, 'min_samples_split': 2, 'n_estimators': 50}\n"
          ]
        }
      ]
    },
    {
      "cell_type": "markdown",
      "source": [
        "## **d. Evaluasi Model Klasifikasi setelah Tuning (Optional)**"
      ],
      "metadata": {
        "id": "hE7pqlEPEYzI"
      }
    },
    {
      "cell_type": "markdown",
      "source": [
        "Berikut adalah rekomendasi tahapannya.\n",
        "1. Gunakan model dengan hyperparameter terbaik.\n",
        "2. Hitung ulang metrik evaluasi untuk melihat apakah ada peningkatan performa."
      ],
      "metadata": {
        "id": "feaPESoeN0zz"
      }
    },
    {
      "cell_type": "markdown",
      "source": [
        "Percobaan mengurangi batas kedalaman pohon"
      ],
      "metadata": {
        "id": "9eN9SU-owX6V"
      }
    },
    {
      "cell_type": "code",
      "source": [
        "rf_model_lowdepth = RandomForestClassifier(\n",
        "    n_estimators=50,      # Kurangi jumlah pohon\n",
        "    max_depth=5,          # Batasi kedalaman pohon\n",
        "    min_samples_split=2, # Batasi jumlah minimal sampel untuk split\n",
        "    random_state=42\n",
        ")\n",
        "rf_model_lowdepth.fit(X_train, y_train)\n",
        "print(f\"Akurasi Training: {rf_model.score(X_train, y_train):.4f}\")\n",
        "print(f\"Akurasi Testing: {rf_model.score(X_test, y_test):.4f}\")"
      ],
      "metadata": {
        "colab": {
          "base_uri": "https://localhost:8080/"
        },
        "id": "Ki9kTE49fuTi",
        "outputId": "01ea058f-4b4a-487e-d7a9-9b7355612e82"
      },
      "execution_count": 27,
      "outputs": [
        {
          "output_type": "stream",
          "name": "stdout",
          "text": [
            "Akurasi Training: 0.9944\n",
            "Akurasi Testing: 0.9965\n"
          ]
        }
      ]
    },
    {
      "cell_type": "markdown",
      "source": [
        "Perbedaan kecil antara training dan testing menunjukkan model tidak mengalami overfitting yang parah."
      ],
      "metadata": {
        "id": "ilxwv5nNtXoZ"
      }
    },
    {
      "cell_type": "markdown",
      "source": [
        "Menggunanakan parameter terbaik hasil gridsearch"
      ],
      "metadata": {
        "id": "4svjX39FwgHW"
      }
    },
    {
      "cell_type": "code",
      "source": [
        "rf_model_opt = RandomForestClassifier(\n",
        "    n_estimators=50,\n",
        "    max_depth=10,\n",
        "    min_samples_split=2,\n",
        "    random_state=42\n",
        ")\n",
        "rf_model_opt.fit(X_train, y_train)\n",
        "print(f\"Akurasi Training: {rf_model_opt.score(X_train, y_train):.4f}\")\n",
        "print(f\"Akurasi Testing: {rf_model_opt.score(X_test, y_test):.4f}\")"
      ],
      "metadata": {
        "colab": {
          "base_uri": "https://localhost:8080/"
        },
        "id": "2LPqeZpstH7_",
        "outputId": "5dd88dc2-f7d0-4493-dc0c-7ca681bcb6de"
      },
      "execution_count": 32,
      "outputs": [
        {
          "output_type": "stream",
          "name": "stdout",
          "text": [
            "Akurasi Training: 1.0000\n",
            "Akurasi Testing: 1.0000\n"
          ]
        }
      ]
    },
    {
      "cell_type": "code",
      "source": [
        "# Evaluasi Random Forest setelah Tuning\n",
        "y_pred_rf_opt = grid_rf.predict(X_test_selected)\n",
        "acc_rf_opt = accuracy_score(y_test, y_pred_rf_opt)\n",
        "f1_rf_opt = f1_score(y_test, y_pred_rf_opt, average='weighted')\n",
        "print(f\"Akurasi Random Forest (setelah tuning): {acc_rf_opt:.4f}\")\n",
        "print(f\"F1-Score Random Forest (setelah tuning): {f1_rf_opt:.4f}\")\n",
        "print(\"Classification Report setelah Tuning:\")\n",
        "print(classification_report(y_test, y_pred_rf_opt))\n",
        "\n",
        "# Confusion Matrix setelah Tuning\n",
        "cm_rf_opt = confusion_matrix(y_test, y_pred_rf_opt)\n",
        "plt.figure(figsize=(6, 4))\n",
        "sns.heatmap(cm_rf_opt, annot=True, fmt='d', cmap='Blues')\n",
        "plt.title('Confusion Matrix Random Forest (Tuned)')\n",
        "plt.xlabel('Predicted')\n",
        "plt.ylabel('Actual')\n",
        "plt.show()"
      ],
      "metadata": {
        "id": "HTXZRvEeNMb1",
        "colab": {
          "base_uri": "https://localhost:8080/",
          "height": 653
        },
        "outputId": "a91e9304-575d-4a8c-fafe-6c162b29f3f3"
      },
      "execution_count": 33,
      "outputs": [
        {
          "output_type": "stream",
          "name": "stdout",
          "text": [
            "Akurasi Random Forest (setelah tuning): 1.0000\n",
            "F1-Score Random Forest (setelah tuning): 1.0000\n",
            "Classification Report setelah Tuning:\n",
            "              precision    recall  f1-score   support\n",
            "\n",
            "           0       1.00      1.00      1.00      1420\n",
            "           1       1.00      1.00      1.00       866\n",
            "           2       1.00      1.00      1.00      1096\n",
            "           3       1.00      1.00      1.00       926\n",
            "\n",
            "    accuracy                           1.00      4308\n",
            "   macro avg       1.00      1.00      1.00      4308\n",
            "weighted avg       1.00      1.00      1.00      4308\n",
            "\n"
          ]
        },
        {
          "output_type": "display_data",
          "data": {
            "text/plain": [
              "<Figure size 600x400 with 2 Axes>"
            ],
            "image/png": "[encoded data removed]"
          },
          "metadata": {}
        }
      ]
    },
    {
      "cell_type": "markdown",
      "source": [
        "## **e. Analisis Hasil Evaluasi Model Klasifikasi**"
      ],
      "metadata": {
        "id": "ZRsOdm4uEgAW"
      }
    },
    {
      "cell_type": "markdown",
      "source": [],
      "metadata": {
        "id": "0wxiXtcswyzT"
      }
    },
    {
      "cell_type": "markdown",
      "source": [
        "1.Perbandingan Hasil Sebelum & Setelah Tuning\n",
        "- Sebelum tuning (max_depth=5):\n",
        "✅ Training: 99.44%, Testing: 99.65% → Generalisasi cukup baik, tapi bisa jadi belum menangkap seluruh kompleksitas data.\n",
        "\n",
        "- Setelah tuning (max_depth=10):\n",
        "✅ Training & Testing: 100%, menunjukkan model mungkin mengalami overfitting karena akurasi terlalu sempurna.\n",
        "\n",
        "2.Identifikasi Kelemahan Model\n",
        "\n",
        "📌 Apakah Precision atau Recall rendah untuk kelas tertentu?\n",
        "\n",
        "- Tidak, karena precision & recall 1.00 untuk semua kelas.\n",
        "\n",
        "📌 Apakah model mengalami Overfitting atau Underfitting?\n",
        "\n",
        "- Model dengan max_depth=10 menunjukkan kemungkinan overfitting, karena akurasi sempurna di training & testing.\n",
        "\n",
        "- Model dengan max_depth=5 lebih stabil, dengan sedikit perbedaan antara training dan testing.\n",
        "\n",
        "3.Rekomendasi Tindakan Lanjutan\n",
        "\n",
        "Jika ingin menghindari overfitting:\n",
        "\n",
        "- Gunakan model dengan max_depth=5 karena lebih stabil.\n",
        "\n",
        "Jika tetap ingin mempertahankan model max_depth=10:\n",
        "\n",
        "- Uji model dengan data yang benar-benar baru untuk melihat apakah performa tetap tinggi.\n",
        "\n",
        "- Coba drop fitur yang mungkin terlalu dominan, agar model tidak terlalu “menghafal” pola data."
      ],
      "metadata": {
        "id": "2EDuSLPBvT08"
      }
    }
  ]
}